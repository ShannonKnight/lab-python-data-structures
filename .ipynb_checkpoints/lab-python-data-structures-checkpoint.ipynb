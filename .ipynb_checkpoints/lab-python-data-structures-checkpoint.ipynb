{
 "cells": [
  {
   "cell_type": "markdown",
   "metadata": {
    "tags": []
   },
   "source": [
    "# Lab | Data Structures "
   ]
  },
  {
   "cell_type": "code",
   "execution_count": 27,
   "metadata": {},
   "outputs": [
    {
     "name": "stdout",
     "output_type": "stream",
     "text": [
      "How many t-shirts are in the inventory? 9\n",
      "How many mugs are in the inventory? 9\n",
      "How many hats are in the inventory? 9\n",
      "How many books are in the inventory? 9\n",
      "How many keychains are in the inventory? 9\n",
      "{'t-shirt': 9, 'mug': 9, 'hat': 9, 'book': 9, 'keychain': 9}\n",
      "Which is the first item you want to order? mug\n",
      "Which is the second item you want to order? hat\n",
      "Which is the third item you want to order? book\n",
      "Customer orders:  {'hat', 'mug', 'book'}\n",
      "Order Statistics:\n",
      "Total Products Ordered 3\n",
      "Percentage of Products Ordered:  6.666666666666667 %\n",
      "t-shirt: 9\n",
      "mug: 8\n",
      "hat: 8\n",
      "book: 8\n",
      "keychain: 9\n"
     ]
    }
   ],
   "source": [
    "#1\n",
    "products = [\"t-shirt\", \"mug\", \"hat\", \"book\",\"keychain\"]\n",
    "\n",
    "#2\n",
    "inventory = {}\n",
    "\n",
    "#3\n",
    "tshirt_number = int(input(\"How many t-shirts are in the inventory? \"))\n",
    "mug_number = int(input(\"How many mugs are in the inventory? \"))\n",
    "hat_number = int(input(\"How many hats are in the inventory? \"))\n",
    "book_number = int(input(\"How many books are in the inventory? \"))\n",
    "keychain_number = int(input(\"How many keychains are in the inventory? \"))\n",
    "\n",
    "inventory[\"t-shirt\"] = tshirt_number\n",
    "inventory[\"mug\"] = mug_number\n",
    "inventory[\"hat\"] = hat_number\n",
    "inventory[\"book\"] = book_number\n",
    "inventory[\"keychain\"] = keychain_number\n",
    "\n",
    "print(inventory)\n",
    "\n",
    "#4\n",
    "customer_orders = set()\n",
    "\n",
    "#5\n",
    "order1 = input(\"Which is the first item you want to order? \")\n",
    "order2 = input(\"Which is the second item you want to order? \")\n",
    "order3 = input(\"Which is the third item you want to order? \")\n",
    "    \n",
    "customer_orders.update([order1,order2,order3])\n",
    "\n",
    "#6\n",
    "#print(\"These are the 3 products that you ordered: \",customer_orders,\".\")\n",
    "#print(f\"You ordered {len(customer_orders)} products in total.\")\n",
    "print(\"Customer orders: \",customer_orders)\n",
    "\n",
    "\n",
    "#7\n",
    "total_products_ordered = len(customer_orders)\n",
    "total_available_products = inventory[\"t-shirt\"]+inventory[\"mug\"]+inventory[\"hat\"]+inventory[\"book\"]+inventory[\"keychain\"]\n",
    "percentage_ordered = (total_products_ordered/total_available_products)*100\n",
    "\n",
    "order_status=(total_products_ordered,percentage_ordered)\n",
    "#order_status\n",
    "\n",
    "#8\n",
    "print(\"Order Statistics:\")\n",
    "print(\"Total Products Ordered\", total_products_ordered)\n",
    "print(\"Percentage of Products Ordered: \", percentage_ordered, \"%\") \n",
    "\n",
    "#9\n",
    "for key, value in inventory.items():\n",
    "    if key in customer_orders:\n",
    "        inventory[key] = value - 1\n",
    "      \n",
    "#10 \n",
    "for key, value in inventory.items():\n",
    "    print(f\"{key}: {value}\")"
   ]
  },
  {
   "cell_type": "markdown",
   "metadata": {},
   "source": [
    "## Exercise: Managing Customer Orders\n",
    "\n",
    "As part of a business venture, you are starting an online store that sells various products. To ensure smooth operations, you need to develop a program that manages customer orders and inventory.\n",
    "\n",
    "Follow the steps below to complete the exercise:\n",
    "\n",
    "1. Define a list called `products` that contains the following items: \"t-shirt\", \"mug\", \"hat\", \"book\", \"keychain\".\n",
    "\n",
    "2. Create an empty dictionary called `inventory`.\n",
    "\n",
    "3. Ask the user to input the quantity of each product available in the inventory. Use the product names from the `products` list as keys in the `inventory` dictionary and assign the respective quantities as values.\n",
    "\n",
    "4. Create an empty set called `customer_orders`.\n",
    "\n",
    "5. Ask the user to input the name of three products that a customer wants to order (from those in the products list, meaning three products out of \"t-shirt\", \"mug\", \"hat\", \"book\" or \"keychain\". Add each product name to the `customer_orders` set.\n",
    "\n",
    "6. Print the products in the `customer_orders` set.\n",
    "\n",
    "7. Calculate the following order statistics:\n",
    "   - Total Products Ordered: The total number of products in the `customer_orders` set.\n",
    "   - Percentage of Products Ordered: The percentage of products ordered compared to the total available products.\n",
    "   \n",
    "   Store these statistics in a tuple called `order_status`.\n",
    "\n",
    "8. Print the order statistics using the following format:\n",
    "   ```\n",
    "   Order Statistics:\n",
    "   Total Products Ordered: <total_products_ordered>\n",
    "   Percentage of Products Ordered: <percentage_ordered>% \n",
    "   ```\n",
    "\n",
    "9. Update the inventory by subtracting 1 from the quantity of each product. Modify the `inventory` dictionary accordingly.\n",
    "\n",
    "10. Print the updated inventory, displaying the quantity of each product on separate lines.\n",
    "\n",
    "Solve the exercise by implementing the steps using the Python concepts of lists, dictionaries, sets, and basic input/output operations. "
   ]
  }
 ],
 "metadata": {
  "kernelspec": {
   "display_name": "Python 3 (ipykernel)",
   "language": "python",
   "name": "python3"
  },
  "language_info": {
   "codemirror_mode": {
    "name": "ipython",
    "version": 3
   },
   "file_extension": ".py",
   "mimetype": "text/x-python",
   "name": "python",
   "nbconvert_exporter": "python",
   "pygments_lexer": "ipython3",
   "version": "3.11.5"
  }
 },
 "nbformat": 4,
 "nbformat_minor": 4
}
